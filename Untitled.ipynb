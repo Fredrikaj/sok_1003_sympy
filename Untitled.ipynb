{
 "cells": [
  {
   "cell_type": "code",
   "execution_count": null,
   "id": "0b5188e6-76c6-4f1b-89eb-01b1f8e027b7",
   "metadata": {},
   "outputs": [],
   "source": [
    "import sympy as sp\n",
    "x,y=sp.symbols('x y')"
   ]
  },
  {
   "cell_type": "code",
   "execution_count": null,
   "id": "4bf6f7b3-aaac-4d11-a48a-788d5d5ba630",
   "metadata": {},
   "outputs": [],
   "source": [
    "eq3=sp.Eq(2*x - y,-1)\n",
    "eq3"
   ]
  },
  {
   "cell_type": "code",
   "execution_count": null,
   "id": "77483f07-4cee-4063-bfac-ce6deaf7c70d",
   "metadata": {},
   "outputs": [],
   "source": [
    "eq4=sp.Eq(x**2 + x - y,1)\n",
    "eq4"
   ]
  },
  {
   "cell_type": "code",
   "execution_count": null,
   "id": "621518f9-f468-4a14-bd3f-d97155ac207b",
   "metadata": {},
   "outputs": [],
   "source": [
    "from sympy.solvers import solve\n",
    "sol=solve([eq3,eq4],[x,y])\n",
    "sol"
   ]
  }
 ],
 "metadata": {
  "kernelspec": {
   "display_name": "Python 3 (ipykernel)",
   "language": "python",
   "name": "python3"
  },
  "language_info": {
   "codemirror_mode": {
    "name": "ipython",
    "version": 3
   },
   "file_extension": ".py",
   "mimetype": "text/x-python",
   "name": "python",
   "nbconvert_exporter": "python",
   "pygments_lexer": "ipython3",
   "version": "3.9.5"
  }
 },
 "nbformat": 4,
 "nbformat_minor": 5
}
