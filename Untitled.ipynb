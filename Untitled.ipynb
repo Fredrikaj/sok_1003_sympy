{
 "cells": [
  {
   "cell_type": "code",
   "execution_count": 2,
   "id": "7b0bbfa0-5127-423d-89eb-af79ec6ad0fb",
   "metadata": {},
   "outputs": [],
   "source": [
    "#oppgave 1B modul 15"
   ]
  },
  {
   "cell_type": "code",
   "execution_count": 2,
   "id": "425ff1ac-e18c-4b94-b11e-1b551fbf1080",
   "metadata": {},
   "outputs": [],
   "source": [
    "import sympy as sp\n",
    "x,y=sp.symbols('x y')"
   ]
  },
  {
   "cell_type": "code",
   "execution_count": 10,
   "id": "eb44ca8d-5aa8-447f-9baa-ab3f29643864",
   "metadata": {},
   "outputs": [
    {
     "data": {
      "text/latex": [
       "$\\displaystyle 2 x - y = -1$"
      ],
      "text/plain": [
       "Eq(2*x - y, -1)"
      ]
     },
     "execution_count": 10,
     "metadata": {},
     "output_type": "execute_result"
    }
   ],
   "source": [
    "eq1=sp.Eq(2*x - y,-1)\n",
    "eq1"
   ]
  },
  {
   "cell_type": "code",
   "execution_count": 9,
   "id": "c6ff03b6-8c1c-4e53-99ab-86f1c87a6897",
   "metadata": {},
   "outputs": [
    {
     "data": {
      "text/latex": [
       "$\\displaystyle x^{2} + x - y = 1$"
      ],
      "text/plain": [
       "Eq(x**2 + x - y, 1)"
      ]
     },
     "execution_count": 9,
     "metadata": {},
     "output_type": "execute_result"
    }
   ],
   "source": [
    "eq2=sp.Eq(x**2 + x - y,1)\n",
    "eq2"
   ]
  },
  {
   "cell_type": "code",
   "execution_count": 16,
   "id": "348142f9-324b-4655-bcc6-0814cd9c6783",
   "metadata": {},
   "outputs": [
    {
     "data": {
      "text/plain": [
       "[(-1, -1), (2, 5)]"
      ]
     },
     "execution_count": 16,
     "metadata": {},
     "output_type": "execute_result"
    }
   ],
   "source": [
    "from sympy.solvers import solve\n",
    "sol=solve([eq1,eq2],[x,y])\n",
    "sol"
   ]
  },
  {
   "cell_type": "code",
   "execution_count": 17,
   "id": "6876fd21-c6d3-452b-99ea-70e3f85b89f8",
   "metadata": {},
   "outputs": [
    {
     "data": {
      "text/latex": [
       "$\\displaystyle 5 x - y = -1$"
      ],
      "text/plain": [
       "Eq(5*x - y, -1)"
      ]
     },
     "execution_count": 17,
     "metadata": {},
     "output_type": "execute_result"
    }
   ],
   "source": [
    "eq1.subs(sol)"
   ]
  },
  {
   "cell_type": "code",
   "execution_count": 19,
   "id": "c575db0e-855c-4cf5-816e-99630072ae5a",
   "metadata": {},
   "outputs": [
    {
     "data": {
      "text/latex": [
       "$\\displaystyle x^{5} + x - y = 1$"
      ],
      "text/plain": [
       "Eq(x**5 + x - y, 1)"
      ]
     },
     "execution_count": 19,
     "metadata": {},
     "output_type": "execute_result"
    }
   ],
   "source": [
    "eq2.subs(sol)"
   ]
  },
  {
   "cell_type": "code",
   "execution_count": 20,
   "id": "a086679d-0590-43b1-a0f7-3c72948c452c",
   "metadata": {},
   "outputs": [],
   "source": [
    "#oppgave 2 a og b modul 15"
   ]
  },
  {
   "cell_type": "code",
   "execution_count": 20,
   "id": "f76d7b42-9831-4ac9-8a62-5b1cb27c8908",
   "metadata": {},
   "outputs": [],
   "source": [
    "import sympy as sp\n",
    "x,y=sp.symbols('x y')"
   ]
  },
  {
   "cell_type": "code",
   "execution_count": 22,
   "id": "905257bc-be51-4961-8f8a-46b5e0afe2cc",
   "metadata": {},
   "outputs": [
    {
     "data": {
      "text/latex": [
       "$\\displaystyle 3 x - 12 = - 6 y$"
      ],
      "text/plain": [
       "Eq(3*x - 12, -6*y)"
      ]
     },
     "execution_count": 22,
     "metadata": {},
     "output_type": "execute_result"
    }
   ],
   "source": [
    "eq1=sp.Eq(3*x - 12,-6*y)\n",
    "eq1"
   ]
  },
  {
   "cell_type": "code",
   "execution_count": 23,
   "id": "b18297b4-fd69-40ba-a517-dfef50f7138f",
   "metadata": {},
   "outputs": [
    {
     "data": {
      "text/latex": [
       "$\\displaystyle 4 x - 8 y = 16$"
      ],
      "text/plain": [
       "Eq(4*x - 8*y, 16)"
      ]
     },
     "execution_count": 23,
     "metadata": {},
     "output_type": "execute_result"
    }
   ],
   "source": [
    "eq2=sp.Eq(4*x - 8*y,16)\n",
    "eq2"
   ]
  },
  {
   "cell_type": "code",
   "execution_count": 24,
   "id": "23181ba4-0b26-4ce2-8822-424fd3221d8b",
   "metadata": {},
   "outputs": [
    {
     "data": {
      "text/plain": [
       "{x: 4, y: 0}"
      ]
     },
     "execution_count": 24,
     "metadata": {},
     "output_type": "execute_result"
    }
   ],
   "source": [
    "from sympy.solvers import solve\n",
    "sol=solve([eq1,eq2],[x,y])\n",
    "sol"
   ]
  },
  {
   "cell_type": "code",
   "execution_count": 25,
   "id": "e385c365-eef0-4741-aa4d-3ebde5c545bb",
   "metadata": {},
   "outputs": [
    {
     "data": {
      "text/latex": [
       "$\\displaystyle \\text{True}$"
      ],
      "text/plain": [
       "True"
      ]
     },
     "execution_count": 25,
     "metadata": {},
     "output_type": "execute_result"
    }
   ],
   "source": [
    "eq1.subs(sol)"
   ]
  },
  {
   "cell_type": "code",
   "execution_count": 27,
   "id": "314c0dbf-8262-41c4-afe4-270aab8a213b",
   "metadata": {},
   "outputs": [
    {
     "data": {
      "text/latex": [
       "$\\displaystyle \\text{True}$"
      ],
      "text/plain": [
       "True"
      ]
     },
     "execution_count": 27,
     "metadata": {},
     "output_type": "execute_result"
    }
   ],
   "source": [
    "eq2.subs(sol)"
   ]
  },
  {
   "cell_type": "code",
   "execution_count": 26,
   "id": "0f5f4ba6-573b-40e4-9096-9c56cd2a29c1",
   "metadata": {},
   "outputs": [],
   "source": [
    "#oppgave b "
   ]
  },
  {
   "cell_type": "code",
   "execution_count": 29,
   "id": "9f2c3a13-f087-4fa9-a6e9-da52396f6198",
   "metadata": {},
   "outputs": [],
   "source": [
    "import sympy as sp\n",
    "x,y=sp.symbols('x y')"
   ]
  },
  {
   "cell_type": "code",
   "execution_count": 30,
   "id": "1f8fb162-2976-4da5-92d6-dc412b11742e",
   "metadata": {},
   "outputs": [
    {
     "data": {
      "text/latex": [
       "$\\displaystyle x^{2} + 4 x - 3 = 3 y$"
      ],
      "text/plain": [
       "Eq(x**2 + 4*x - 3, 3*y)"
      ]
     },
     "execution_count": 30,
     "metadata": {},
     "output_type": "execute_result"
    }
   ],
   "source": [
    "eq1=sp.Eq(x**2 + 4*x - 3,3*y)\n",
    "eq1"
   ]
  },
  {
   "cell_type": "code",
   "execution_count": 31,
   "id": "911e5a7c-5df2-4d9a-8398-bfdb8d7c4e65",
   "metadata": {},
   "outputs": [
    {
     "data": {
      "text/latex": [
       "$\\displaystyle 2 y = 8 - x$"
      ],
      "text/plain": [
       "Eq(2*y, 8 - x)"
      ]
     },
     "execution_count": 31,
     "metadata": {},
     "output_type": "execute_result"
    }
   ],
   "source": [
    "eq2=sp.Eq(2*y,8-x)\n",
    "eq2"
   ]
  },
  {
   "cell_type": "code",
   "execution_count": 32,
   "id": "95285444-07b0-4807-b632-efe4fdabd8d6",
   "metadata": {},
   "outputs": [
    {
     "data": {
      "text/plain": [
       "[(-15/2, 31/4), (2, 3)]"
      ]
     },
     "execution_count": 32,
     "metadata": {},
     "output_type": "execute_result"
    }
   ],
   "source": [
    "from sympy.solvers import solve\n",
    "sol=solve([eq1,eq2],[x,y])\n",
    "sol"
   ]
  },
  {
   "cell_type": "code",
   "execution_count": 34,
   "id": "da585e45-62f1-41e4-a616-bc8d1eee51d1",
   "metadata": {},
   "outputs": [
    {
     "data": {
      "text/latex": [
       "$\\displaystyle x^{3} + 4 x - 3 = 3 y$"
      ],
      "text/plain": [
       "Eq(x**3 + 4*x - 3, 3*y)"
      ]
     },
     "execution_count": 34,
     "metadata": {},
     "output_type": "execute_result"
    }
   ],
   "source": [
    "eq1.subs(sol)"
   ]
  },
  {
   "cell_type": "code",
   "execution_count": 36,
   "id": "1a1a0d4b-636e-48b4-a2dc-af23e359305b",
   "metadata": {},
   "outputs": [
    {
     "data": {
      "text/latex": [
       "$\\displaystyle 3 y = 8 - x$"
      ],
      "text/plain": [
       "Eq(3*y, 8 - x)"
      ]
     },
     "execution_count": 36,
     "metadata": {},
     "output_type": "execute_result"
    }
   ],
   "source": [
    "eq2.subs(sol)"
   ]
  },
  {
   "cell_type": "code",
   "execution_count": 38,
   "id": "f09b2d1f-0e99-41fc-b48c-80c102054dd7",
   "metadata": {},
   "outputs": [],
   "source": [
    "#oppgave 1 modul 16\n",
    "#a"
   ]
  },
  {
   "cell_type": "code",
   "execution_count": 39,
   "id": "7f3705a3-f2ab-445b-b004-78808fad13df",
   "metadata": {},
   "outputs": [],
   "source": [
    "import sympy as sp\n",
    "x,y=sp.symbols('x y')"
   ]
  },
  {
   "cell_type": "code",
   "execution_count": 41,
   "id": "29a87ed5-9488-4743-9c8b-5f1badaede4f",
   "metadata": {},
   "outputs": [
    {
     "data": {
      "text/latex": [
       "$\\displaystyle 4 x + 2 y = 12$"
      ],
      "text/plain": [
       "Eq(4*x + 2*y, 12)"
      ]
     },
     "execution_count": 41,
     "metadata": {},
     "output_type": "execute_result"
    }
   ],
   "source": [
    "eq1=sp.Eq(4*x + 2*y,12)\n",
    "eq1"
   ]
  },
  {
   "cell_type": "code",
   "execution_count": 42,
   "id": "b0024f1e-854e-47b2-a035-bc4c626a0264",
   "metadata": {},
   "outputs": [
    {
     "data": {
      "text/latex": [
       "$\\displaystyle 6 x - 2 y = 8$"
      ],
      "text/plain": [
       "Eq(6*x - 2*y, 8)"
      ]
     },
     "execution_count": 42,
     "metadata": {},
     "output_type": "execute_result"
    }
   ],
   "source": [
    "eq2=sp.Eq(6*x - 2*y,8)\n",
    "eq2"
   ]
  },
  {
   "cell_type": "code",
   "execution_count": 44,
   "id": "14b0d010-047e-4ea0-bdc5-d7025a7ae991",
   "metadata": {},
   "outputs": [
    {
     "data": {
      "text/plain": [
       "{x: 2, y: 2}"
      ]
     },
     "execution_count": 44,
     "metadata": {},
     "output_type": "execute_result"
    }
   ],
   "source": [
    "from sympy.solvers import solve\n",
    "sol=solve([eq1,eq2],[x,y])\n",
    "sol"
   ]
  },
  {
   "cell_type": "code",
   "execution_count": 47,
   "id": "c429690a-60a1-4655-a967-67a17bcb974c",
   "metadata": {},
   "outputs": [
    {
     "data": {
      "text/latex": [
       "$\\displaystyle \\text{True}$"
      ],
      "text/plain": [
       "True"
      ]
     },
     "execution_count": 47,
     "metadata": {},
     "output_type": "execute_result"
    }
   ],
   "source": [
    "eq1.subs(sol)"
   ]
  },
  {
   "cell_type": "code",
   "execution_count": 48,
   "id": "1f660d28-f787-4348-866f-fd68ad14b4af",
   "metadata": {},
   "outputs": [
    {
     "data": {
      "text/latex": [
       "$\\displaystyle \\text{True}$"
      ],
      "text/plain": [
       "True"
      ]
     },
     "execution_count": 48,
     "metadata": {},
     "output_type": "execute_result"
    }
   ],
   "source": [
    "eq2.subs(sol)"
   ]
  },
  {
   "cell_type": "code",
   "execution_count": 49,
   "id": "bbdc0a11-f441-4bb2-bc7b-ae30546433c0",
   "metadata": {},
   "outputs": [],
   "source": [
    "#b"
   ]
  },
  {
   "cell_type": "code",
   "execution_count": 50,
   "id": "2a350077-5c11-4ba1-9a81-e680eca574c2",
   "metadata": {},
   "outputs": [],
   "source": [
    "import sympy as sp\n",
    "x,y=sp.symbols('x y')"
   ]
  },
  {
   "cell_type": "code",
   "execution_count": 51,
   "id": "ad07d206-b995-46a5-88e6-09ce3508119b",
   "metadata": {},
   "outputs": [
    {
     "data": {
      "text/latex": [
       "$\\displaystyle 2 x + y^{2} = 25$"
      ],
      "text/plain": [
       "Eq(2*x + y**2, 25)"
      ]
     },
     "execution_count": 51,
     "metadata": {},
     "output_type": "execute_result"
    }
   ],
   "source": [
    "eq1=sp.Eq(2*x + y**2,25)\n",
    "eq1"
   ]
  },
  {
   "cell_type": "code",
   "execution_count": 52,
   "id": "67eb7e91-aacd-4db0-87bf-f1788930653e",
   "metadata": {},
   "outputs": [
    {
     "data": {
      "text/latex": [
       "$\\displaystyle x - 2 y = 10$"
      ],
      "text/plain": [
       "Eq(x - 2*y, 10)"
      ]
     },
     "execution_count": 52,
     "metadata": {},
     "output_type": "execute_result"
    }
   ],
   "source": [
    "eq2=sp.Eq(x - 2*y,10)\n",
    "eq2"
   ]
  },
  {
   "cell_type": "code",
   "execution_count": 53,
   "id": "de328585-5c94-4b0d-ad40-a697cf5e466e",
   "metadata": {},
   "outputs": [
    {
     "data": {
      "text/plain": [
       "[(0, -5), (12, 1)]"
      ]
     },
     "execution_count": 53,
     "metadata": {},
     "output_type": "execute_result"
    }
   ],
   "source": [
    "from sympy.solvers import solve\n",
    "sol=solve([eq1,eq2],[x,y])\n",
    "sol"
   ]
  },
  {
   "cell_type": "code",
   "execution_count": 54,
   "id": "20aaca1b-05c7-4006-b14b-9fccb8dc8918",
   "metadata": {},
   "outputs": [
    {
     "data": {
      "text/latex": [
       "$\\displaystyle 2 x + y^{2} = 25$"
      ],
      "text/plain": [
       "Eq(2*x + y**2, 25)"
      ]
     },
     "execution_count": 54,
     "metadata": {},
     "output_type": "execute_result"
    }
   ],
   "source": [
    "eq1.subs(sol)"
   ]
  },
  {
   "cell_type": "code",
   "execution_count": 55,
   "id": "71515ea2-90c0-43c7-ad5d-5724bf2c31d8",
   "metadata": {},
   "outputs": [
    {
     "data": {
      "text/latex": [
       "$\\displaystyle x - 2 y = 10$"
      ],
      "text/plain": [
       "Eq(x - 2*y, 10)"
      ]
     },
     "execution_count": 55,
     "metadata": {},
     "output_type": "execute_result"
    }
   ],
   "source": [
    "eq2.subs(sol)"
   ]
  },
  {
   "cell_type": "code",
   "execution_count": 50,
   "id": "564e4b9f-817b-4447-9845-85bc5df9dc6c",
   "metadata": {},
   "outputs": [],
   "source": [
    "#oppgave 2 modul 16 \n",
    "#a"
   ]
  },
  {
   "cell_type": "code",
   "execution_count": 56,
   "id": "d8d9c314-0819-4c1a-9290-18aacff271f6",
   "metadata": {},
   "outputs": [
    {
     "data": {
      "text/latex": [
       "$\\displaystyle 4 x - 4 y = 8$"
      ],
      "text/plain": [
       "Eq(4*x - 4*y, 8)"
      ]
     },
     "execution_count": 56,
     "metadata": {},
     "output_type": "execute_result"
    }
   ],
   "source": [
    "eq1=sp.Eq(4*x - 4*y,8)\n",
    "eq1"
   ]
  },
  {
   "cell_type": "code",
   "execution_count": 57,
   "id": "9ffa41b8-aa02-4387-9fee-2d77184990e2",
   "metadata": {},
   "outputs": [
    {
     "data": {
      "text/latex": [
       "$\\displaystyle 9 x - 5 y = 26$"
      ],
      "text/plain": [
       "Eq(9*x - 5*y, 26)"
      ]
     },
     "execution_count": 57,
     "metadata": {},
     "output_type": "execute_result"
    }
   ],
   "source": [
    "eq2=sp.Eq(9*x - 5*y,26)\n",
    "eq2"
   ]
  },
  {
   "cell_type": "code",
   "execution_count": 58,
   "id": "5a480f5d-a2c3-4ebe-b45f-ff2dcfd7c45e",
   "metadata": {},
   "outputs": [
    {
     "data": {
      "text/plain": [
       "{x: 4, y: 2}"
      ]
     },
     "execution_count": 58,
     "metadata": {},
     "output_type": "execute_result"
    }
   ],
   "source": [
    "sol=solve([eq1,eq2],[x,y])\n",
    "sol"
   ]
  },
  {
   "cell_type": "code",
   "execution_count": 59,
   "id": "5d1076b2-46b0-435b-90f1-b0f24c087ee6",
   "metadata": {},
   "outputs": [
    {
     "data": {
      "text/latex": [
       "$\\displaystyle \\text{True}$"
      ],
      "text/plain": [
       "True"
      ]
     },
     "execution_count": 59,
     "metadata": {},
     "output_type": "execute_result"
    }
   ],
   "source": [
    "eq1.subs(sol)"
   ]
  },
  {
   "cell_type": "code",
   "execution_count": 60,
   "id": "2be0794d-4c84-4794-8f70-c250f74648ca",
   "metadata": {},
   "outputs": [
    {
     "data": {
      "text/latex": [
       "$\\displaystyle \\text{True}$"
      ],
      "text/plain": [
       "True"
      ]
     },
     "execution_count": 60,
     "metadata": {},
     "output_type": "execute_result"
    }
   ],
   "source": [
    "eq2.subs(sol)"
   ]
  },
  {
   "cell_type": "code",
   "execution_count": 61,
   "id": "badb44b4-04a8-44ae-bafc-8d24243124e5",
   "metadata": {},
   "outputs": [],
   "source": [
    "#B"
   ]
  },
  {
   "cell_type": "code",
   "execution_count": 81,
   "id": "af91a202-d945-4697-b1de-aa4c16e71578",
   "metadata": {},
   "outputs": [],
   "source": [
    "import sympy as sp\n",
    "x,y=sp.symbols('x y')"
   ]
  },
  {
   "cell_type": "code",
   "execution_count": 82,
   "id": "6125ed65-4089-4251-8734-6d0c5bf2eb1e",
   "metadata": {},
   "outputs": [
    {
     "data": {
      "text/latex": [
       "$\\displaystyle x + 2 y^{2} = 15$"
      ],
      "text/plain": [
       "Eq(x + 2*y**2, 15)"
      ]
     },
     "execution_count": 82,
     "metadata": {},
     "output_type": "execute_result"
    }
   ],
   "source": [
    "eq1=sp.Eq(x + 2*y**2,15)\n",
    "eq1"
   ]
  },
  {
   "cell_type": "code",
   "execution_count": 69,
   "id": "496b9d9e-761e-492f-9573-c9eb9e246e1b",
   "metadata": {},
   "outputs": [
    {
     "data": {
      "text/latex": [
       "$\\displaystyle x^{2} - 4 y^{2} = 33$"
      ],
      "text/plain": [
       "Eq(x**2 - 4*y**2, 33)"
      ]
     },
     "execution_count": 69,
     "metadata": {},
     "output_type": "execute_result"
    }
   ],
   "source": [
    "eq2=sp.Eq(x**2 - 4*y**2,33)\n",
    "eq2"
   ]
  },
  {
   "cell_type": "code",
   "execution_count": 84,
   "id": "a5b43f03-f5bf-4b51-8412-1891d9163481",
   "metadata": {},
   "outputs": [
    {
     "data": {
      "text/plain": [
       "[(-9, -2*sqrt(3)), (-9, 2*sqrt(3)), (7, -2), (7, 2)]"
      ]
     },
     "execution_count": 84,
     "metadata": {},
     "output_type": "execute_result"
    }
   ],
   "source": [
    "sol=solve([eq1,eq2],[x,y])\n",
    "sol"
   ]
  },
  {
   "cell_type": "code",
   "execution_count": 90,
   "id": "0e9e86ed-761d-41d4-bab2-e4ebd89e0a67",
   "metadata": {},
   "outputs": [
    {
     "data": {
      "text/latex": [
       "$\\displaystyle x + 2 y^{2} = 15$"
      ],
      "text/plain": [
       "Eq(x + 2*y**2, 15)"
      ]
     },
     "execution_count": 90,
     "metadata": {},
     "output_type": "execute_result"
    }
   ],
   "source": [
    "eq1.subs(sol)"
   ]
  },
  {
   "cell_type": "code",
   "execution_count": 50,
   "id": "d89f07a9-3f3f-4999-9c04-ef403a7d6436",
   "metadata": {},
   "outputs": [],
   "source": [
    "#modul 17 oppgave 1\n",
    "#A"
   ]
  },
  {
   "cell_type": "code",
   "execution_count": 95,
   "id": "04592b3d-3d57-4b6d-a00a-b52a5b8c6da0",
   "metadata": {},
   "outputs": [],
   "source": [
    "import sympy as sp\n",
    "x,y=sp.symbols('x y')"
   ]
  },
  {
   "cell_type": "code",
   "execution_count": 97,
   "id": "3f6b9c85-32c4-437e-aec7-8832f0f5cbd2",
   "metadata": {},
   "outputs": [
    {
     "data": {
      "text/latex": [
       "$\\displaystyle x y^{2} - x = 0$"
      ],
      "text/plain": [
       "Eq(x*y**2 - x, 0)"
      ]
     },
     "execution_count": 97,
     "metadata": {},
     "output_type": "execute_result"
    }
   ],
   "source": [
    "eq1=sp.Eq(x*y**2 - x,0)\n",
    "eq1"
   ]
  },
  {
   "cell_type": "code",
   "execution_count": 98,
   "id": "9266fd9a-fefb-4b67-b21d-214cb51a9900",
   "metadata": {},
   "outputs": [
    {
     "data": {
      "text/latex": [
       "$\\displaystyle x + y^{2} = 16$"
      ],
      "text/plain": [
       "Eq(x + y**2, 16)"
      ]
     },
     "execution_count": 98,
     "metadata": {},
     "output_type": "execute_result"
    }
   ],
   "source": [
    "eq2=sp.Eq(x + y**2,16)\n",
    "eq2"
   ]
  },
  {
   "cell_type": "code",
   "execution_count": 99,
   "id": "70c82f0a-713c-4916-ae82-4378462836b6",
   "metadata": {},
   "outputs": [
    {
     "data": {
      "text/plain": [
       "[(0, -4), (0, 4), (15, -1), (15, 1)]"
      ]
     },
     "execution_count": 99,
     "metadata": {},
     "output_type": "execute_result"
    }
   ],
   "source": [
    "sol=solve([eq1,eq2],[x,y])\n",
    "sol"
   ]
  },
  {
   "cell_type": "code",
   "execution_count": 100,
   "id": "05f6125c-9a01-4676-aa57-f486016b6318",
   "metadata": {},
   "outputs": [
    {
     "data": {
      "text/latex": [
       "$\\displaystyle x y^{2} - x = -4$"
      ],
      "text/plain": [
       "Eq(x*y**2 - x, -4)"
      ]
     },
     "execution_count": 100,
     "metadata": {},
     "output_type": "execute_result"
    }
   ],
   "source": [
    "eq1.subs(sol)"
   ]
  },
  {
   "cell_type": "code",
   "execution_count": 50,
   "id": "963fffd0-2496-4a17-9661-a2f33c9343cd",
   "metadata": {},
   "outputs": [],
   "source": [
    "#B"
   ]
  },
  {
   "cell_type": "code",
   "execution_count": 102,
   "id": "f6431307-9fd8-4d4b-bac3-5bdb755d9b10",
   "metadata": {},
   "outputs": [
    {
     "data": {
      "text/latex": [
       "$\\displaystyle x^{2} + y^{2} = 100$"
      ],
      "text/plain": [
       "Eq(x**2 + y**2, 100)"
      ]
     },
     "execution_count": 102,
     "metadata": {},
     "output_type": "execute_result"
    }
   ],
   "source": [
    "eq1=sp.Eq(x**2 + y**2,100)\n",
    "eq1"
   ]
  },
  {
   "cell_type": "code",
   "execution_count": 103,
   "id": "eec5ab73-1120-42de-910a-68d853e3d466",
   "metadata": {},
   "outputs": [
    {
     "data": {
      "text/latex": [
       "$\\displaystyle x^{2} y - 36 y = 0$"
      ],
      "text/plain": [
       "Eq(x**2*y - 36*y, 0)"
      ]
     },
     "execution_count": 103,
     "metadata": {},
     "output_type": "execute_result"
    }
   ],
   "source": [
    "eq2=sp.Eq(x**2*y-36*y,0)\n",
    "eq2"
   ]
  },
  {
   "cell_type": "code",
   "execution_count": 106,
   "id": "595b0a05-9f3c-48a7-a5d9-b81fed13e046",
   "metadata": {},
   "outputs": [
    {
     "data": {
      "text/plain": [
       "[(-10, 0), (-6, -8), (-6, 8), (6, -8), (6, 8), (10, 0)]"
      ]
     },
     "execution_count": 106,
     "metadata": {},
     "output_type": "execute_result"
    }
   ],
   "source": [
    "sol=solve([eq1,eq2],[x,y])\n",
    "sol"
   ]
  },
  {
   "cell_type": "code",
   "execution_count": 105,
   "id": "47aff7b5-97dc-4c68-a334-f90272a118cd",
   "metadata": {},
   "outputs": [
    {
     "data": {
      "text/latex": [
       "$\\displaystyle x^{2} y - 36 y = -4$"
      ],
      "text/plain": [
       "Eq(x**2*y - 36*y, -4)"
      ]
     },
     "execution_count": 105,
     "metadata": {},
     "output_type": "execute_result"
    }
   ],
   "source": [
    "eq2.subs(sol)"
   ]
  },
  {
   "cell_type": "code",
   "execution_count": 108,
   "id": "3bc45492-75ba-4da1-a2a7-f256e8e428c3",
   "metadata": {},
   "outputs": [],
   "source": [
    "#oppgave 2 \n",
    "#A"
   ]
  },
  {
   "cell_type": "code",
   "execution_count": 115,
   "id": "5abb3305-23aa-4476-8437-c17226fd1281",
   "metadata": {},
   "outputs": [],
   "source": [
    "import sympy as sp\n",
    "x,y=sp.symbols('x y')"
   ]
  },
  {
   "cell_type": "code",
   "execution_count": 154,
   "id": "5ebcd7ae-140d-4764-b96d-34a887b8031e",
   "metadata": {},
   "outputs": [
    {
     "data": {
      "text/latex": [
       "$\\displaystyle x y^{2} - 49 x = 0$"
      ],
      "text/plain": [
       "Eq(x*y**2 - 49*x, 0)"
      ]
     },
     "execution_count": 154,
     "metadata": {},
     "output_type": "execute_result"
    }
   ],
   "source": [
    "eq1=sp.Eq(x*y**2 - 49*x,0)\n",
    "eq1"
   ]
  },
  {
   "cell_type": "code",
   "execution_count": 153,
   "id": "7034628c-1ec2-4579-b2d2-673c59f876bd",
   "metadata": {},
   "outputs": [
    {
     "data": {
      "text/latex": [
       "$\\displaystyle 2 x + 2 y = 58$"
      ],
      "text/plain": [
       "Eq(2*x + 2*y, 58)"
      ]
     },
     "execution_count": 153,
     "metadata": {},
     "output_type": "execute_result"
    }
   ],
   "source": [
    "eq2=sp.Eq(x*2 + y*2,58)\n",
    "eq2"
   ]
  },
  {
   "cell_type": "code",
   "execution_count": 155,
   "id": "3cffb651-5d78-4722-a5d7-fae3036794c3",
   "metadata": {},
   "outputs": [
    {
     "data": {
      "text/plain": [
       "[(0, 29), (22, 7), (36, -7)]"
      ]
     },
     "execution_count": 155,
     "metadata": {},
     "output_type": "execute_result"
    }
   ],
   "source": [
    "from sympy.solvers import solve\n",
    "sol=solve([eq1,eq2],[x,y])\n",
    "sol"
   ]
  },
  {
   "cell_type": "code",
   "execution_count": 137,
   "id": "8835e992-1829-4f5f-94ab-ac76d8fcd2eb",
   "metadata": {},
   "outputs": [
    {
     "data": {
      "text/latex": [
       "$\\displaystyle 2 x y + y = 0$"
      ],
      "text/plain": [
       "Eq(2*x*y + y, 0)"
      ]
     },
     "execution_count": 137,
     "metadata": {},
     "output_type": "execute_result"
    }
   ],
   "source": [
    "eq2.subs(sol)"
   ]
  },
  {
   "cell_type": "code",
   "execution_count": 120,
   "id": "5b65a9cb-d7df-4952-b99f-99fd55abcca1",
   "metadata": {},
   "outputs": [],
   "source": [
    "#B"
   ]
  },
  {
   "cell_type": "code",
   "execution_count": 147,
   "id": "4f90f424-3141-4bb3-a9f4-6a3e45eacd54",
   "metadata": {},
   "outputs": [],
   "source": [
    "import sympy as sp\n",
    "x,y=sp.symbols('x y')"
   ]
  },
  {
   "cell_type": "code",
   "execution_count": 148,
   "id": "f4bcf49e-ca07-4434-8213-4540341ddec6",
   "metadata": {},
   "outputs": [
    {
     "data": {
      "text/latex": [
       "$\\displaystyle x^{2} + 2 y = 1.25$"
      ],
      "text/plain": [
       "Eq(x**2 + 2*y, 1.25)"
      ]
     },
     "execution_count": 148,
     "metadata": {},
     "output_type": "execute_result"
    }
   ],
   "source": [
    "eq1=sp.Eq(x**2 + y*2,5/4)\n",
    "eq1"
   ]
  },
  {
   "cell_type": "code",
   "execution_count": 149,
   "id": "5339c572-cb42-4dc3-9934-d34de1f3378b",
   "metadata": {},
   "outputs": [
    {
     "data": {
      "text/latex": [
       "$\\displaystyle 2 x y + y = 0$"
      ],
      "text/plain": [
       "Eq(2*x*y + y, 0)"
      ]
     },
     "execution_count": 149,
     "metadata": {},
     "output_type": "execute_result"
    }
   ],
   "source": [
    "eq2=sp.Eq(2*x*y + y,0)\n",
    "eq2"
   ]
  },
  {
   "cell_type": "code",
   "execution_count": 150,
   "id": "7d2d4e09-f907-49c8-9e15-e3a2ccae073b",
   "metadata": {},
   "outputs": [
    {
     "data": {
      "text/plain": [
       "[(-1.11803398874989, 0.0),\n",
       " (-0.500000000000000, 0.500000000000000),\n",
       " (1.11803398874989, 0.0)]"
      ]
     },
     "execution_count": 150,
     "metadata": {},
     "output_type": "execute_result"
    }
   ],
   "source": [
    "sol=solve([eq1,eq2],[x,y])\n",
    "sol"
   ]
  },
  {
   "cell_type": "code",
   "execution_count": 151,
   "id": "6747c3df-a8d0-4105-a91d-4744454589ed",
   "metadata": {},
   "outputs": [
    {
     "data": {
      "text/latex": [
       "$\\displaystyle 2 x y + y = 0$"
      ],
      "text/plain": [
       "Eq(2*x*y + y, 0)"
      ]
     },
     "execution_count": 151,
     "metadata": {},
     "output_type": "execute_result"
    }
   ],
   "source": [
    "eq2.subs(sol)"
   ]
  },
  {
   "cell_type": "code",
   "execution_count": 50,
   "id": "cc4bb8da-dac2-4023-939a-1b4997430444",
   "metadata": {},
   "outputs": [],
   "source": [
    "#modul 19 \n",
    "#oppgave1 \n",
    "#a,b,c,d,e,f,g,"
   ]
  },
  {
   "cell_type": "code",
   "execution_count": 158,
   "id": "85e20729-b506-4e40-81cd-155031e8ac90",
   "metadata": {},
   "outputs": [],
   "source": [
    "import sympy as sp\n",
    "x=sp.symbols('x')"
   ]
  },
  {
   "cell_type": "code",
   "execution_count": 161,
   "id": "5682874b-ec0a-4ad5-98c7-24fde020e178",
   "metadata": {},
   "outputs": [
    {
     "data": {
      "text/latex": [
       "$\\displaystyle 5 x^{4}$"
      ],
      "text/plain": [
       "5*x**4"
      ]
     },
     "execution_count": 161,
     "metadata": {},
     "output_type": "execute_result"
    }
   ],
   "source": [
    "d_profitt=sp.diff(x**5,)\n",
    "d_profitt"
   ]
  },
  {
   "cell_type": "code",
   "execution_count": 162,
   "id": "5cad20f2-f126-4279-b983-a26f6ae16982",
   "metadata": {},
   "outputs": [
    {
     "data": {
      "text/latex": [
       "$\\displaystyle 1$"
      ],
      "text/plain": [
       "1"
      ]
     },
     "execution_count": 162,
     "metadata": {},
     "output_type": "execute_result"
    }
   ],
   "source": [
    "d_profitt=sp.diff(x + 12,)\n",
    "d_profitt"
   ]
  },
  {
   "cell_type": "code",
   "execution_count": 163,
   "id": "8cc53edb-8d5f-4186-b43a-29aa1be5d47c",
   "metadata": {},
   "outputs": [
    {
     "data": {
      "text/latex": [
       "$\\displaystyle 3 x^{2} + 8 x$"
      ],
      "text/plain": [
       "3*x**2 + 8*x"
      ]
     },
     "execution_count": 163,
     "metadata": {},
     "output_type": "execute_result"
    }
   ],
   "source": [
    "d_profitt=sp.diff(x**3 + 4*x**2,)\n",
    "d_profitt"
   ]
  },
  {
   "cell_type": "code",
   "execution_count": 164,
   "id": "19b376e5-683b-4206-a804-cb0780e0bd5d",
   "metadata": {},
   "outputs": [
    {
     "data": {
      "text/latex": [
       "$\\displaystyle 6 x^{2}$"
      ],
      "text/plain": [
       "6*x**2"
      ]
     },
     "execution_count": 164,
     "metadata": {},
     "output_type": "execute_result"
    }
   ],
   "source": [
    "d_profitt=sp.diff(2*x**3 + 36**(1/2),)\n",
    "d_profitt"
   ]
  },
  {
   "cell_type": "code",
   "execution_count": 170,
   "id": "80091ecb-7584-40ac-940c-bd046b53da63",
   "metadata": {},
   "outputs": [
    {
     "data": {
      "text/latex": [
       "$\\displaystyle \\frac{0.5}{x^{0.5}}$"
      ],
      "text/plain": [
       "0.5*x**(-0.5)"
      ]
     },
     "execution_count": 170,
     "metadata": {},
     "output_type": "execute_result"
    }
   ],
   "source": [
    "d_profitt=sp.diff((x**(1/2)) + 5*2)\n",
    "d_profitt"
   ]
  },
  {
   "cell_type": "code",
   "execution_count": 172,
   "id": "605b9a52-9da5-4004-a2c5-161d4729518b",
   "metadata": {},
   "outputs": [
    {
     "data": {
      "text/latex": [
       "$\\displaystyle 3 x^{2} - \\frac{1}{x^{2}}$"
      ],
      "text/plain": [
       "3*x**2 - 1/x**2"
      ]
     },
     "execution_count": 172,
     "metadata": {},
     "output_type": "execute_result"
    }
   ],
   "source": [
    "d_profitt=sp.diff(x**3 + 1/x)\n",
    "d_profitt"
   ]
  },
  {
   "cell_type": "code",
   "execution_count": 174,
   "id": "0dd76b55-d952-49b2-8224-01eacb62ecbe",
   "metadata": {},
   "outputs": [
    {
     "data": {
      "text/latex": [
       "$\\displaystyle 3 x^{2} - 2 x + 0.25$"
      ],
      "text/plain": [
       "3*x**2 - 2*x + 0.25"
      ]
     },
     "execution_count": 174,
     "metadata": {},
     "output_type": "execute_result"
    }
   ],
   "source": [
    "d_profitt=sp.diff(x**3 - x**2 + 1/4*x)\n",
    "d_profitt"
   ]
  },
  {
   "cell_type": "code",
   "execution_count": 50,
   "id": "415a9436-237d-4779-b1b3-041bb0785a5f",
   "metadata": {},
   "outputs": [],
   "source": [
    "#oppgave 2 \n",
    "#a,b,c"
   ]
  },
  {
   "cell_type": "code",
   "execution_count": 175,
   "id": "49a91cf8-b6ad-4a40-ad47-e1177ccf0364",
   "metadata": {},
   "outputs": [
    {
     "data": {
      "text/latex": [
       "$\\displaystyle 36 x^{5} - \\frac{1}{x^{2}}$"
      ],
      "text/plain": [
       "36*x**5 - 1/x**2"
      ]
     },
     "execution_count": 175,
     "metadata": {},
     "output_type": "execute_result"
    }
   ],
   "source": [
    "d_profitt=sp.diff(1/x + 6*x**6)\n",
    "d_profitt"
   ]
  },
  {
   "cell_type": "code",
   "execution_count": 181,
   "id": "1e8264d0-6906-45a6-a791-b3cb36c842f1",
   "metadata": {},
   "outputs": [
    {
     "data": {
      "text/latex": [
       "$\\displaystyle 1.5 x^{2} - 1$"
      ],
      "text/plain": [
       "1.5*x**2 - 1"
      ]
     },
     "execution_count": 181,
     "metadata": {},
     "output_type": "execute_result"
    }
   ],
   "source": [
    "d_profitt=sp.diff(-x + 1/2*x**3)\n",
    "d_profitt"
   ]
  },
  {
   "cell_type": "code",
   "execution_count": 203,
   "id": "eddba76c-7381-461b-99fc-16392baaa22b",
   "metadata": {},
   "outputs": [
    {
     "data": {
      "text/latex": [
       "$\\displaystyle x^{4 x - 3} \\left(4 \\log{\\left(x \\right)} + \\frac{4 x - 3}{x}\\right)$"
      ],
      "text/plain": [
       "x**(4*x - 3)*(4*log(x) + (4*x - 3)/x)"
      ]
     },
     "execution_count": 203,
     "metadata": {},
     "output_type": "execute_result"
    }
   ],
   "source": [
    "d_profitt=sp.diff(x**(x*2 + 2*x - 3))\n",
    "d_profitt"
   ]
  },
  {
   "cell_type": "code",
   "execution_count": 50,
   "id": "9530fa6d-2b2e-443b-aa04-5059faf1a8d2",
   "metadata": {},
   "outputs": [],
   "source": [
    "#modul 20 oppgave 1\n",
    "#e,f,g,h,i,j,k,l,m"
   ]
  },
  {
   "cell_type": "code",
   "execution_count": 212,
   "id": "d2a04c9d-726f-4bc3-b7f3-3ee8f502bd02",
   "metadata": {},
   "outputs": [
    {
     "data": {
      "text/latex": [
       "$\\displaystyle 9 x^{8}$"
      ],
      "text/plain": [
       "9*x**8"
      ]
     },
     "execution_count": 212,
     "metadata": {},
     "output_type": "execute_result"
    }
   ],
   "source": [
    "d_profitt=sp.diff(x**4 * x**5)\n",
    "d_profitt"
   ]
  },
  {
   "cell_type": "code",
   "execution_count": 222,
   "id": "9de9de2f-de7c-4990-8bb9-25ce66a967fb",
   "metadata": {},
   "outputs": [
    {
     "data": {
      "text/latex": [
       "$\\displaystyle \\frac{\\sqrt{2} \\sqrt{x^{2}}}{2 x}$"
      ],
      "text/plain": [
       "sqrt(2)*sqrt(x**2)/(2*x)"
      ]
     },
     "execution_count": 222,
     "metadata": {},
     "output_type": "execute_result"
    }
   ],
   "source": [
    "d_profitt=sp.diff(sp.sqrt(x * x**1/2))\n",
    "d_profitt"
   ]
  },
  {
   "cell_type": "code",
   "execution_count": 224,
   "id": "277a3c0a-a6c5-4a3a-b92f-9d2fabe981a9",
   "metadata": {},
   "outputs": [
    {
     "data": {
      "text/latex": [
       "$\\displaystyle - \\frac{6}{x^{4}}$"
      ],
      "text/plain": [
       "-6/x**4"
      ]
     },
     "execution_count": 224,
     "metadata": {},
     "output_type": "execute_result"
    }
   ],
   "source": [
    "d_profitt=sp.diff(2/x**3)\n",
    "d_profitt"
   ]
  },
  {
   "cell_type": "code",
   "execution_count": 233,
   "id": "163ced05-010e-425f-898c-a6389ce54425",
   "metadata": {},
   "outputs": [
    {
     "data": {
      "text/latex": [
       "$\\displaystyle 2 x + \\frac{6}{x^{4}}$"
      ],
      "text/plain": [
       "2*x + 6/x**4"
      ]
     },
     "execution_count": 233,
     "metadata": {},
     "output_type": "execute_result"
    }
   ],
   "source": [
    "d_profitt=sp.diff(x**2 - 2/x**3)\n",
    "d_profitt"
   ]
  },
  {
   "cell_type": "code",
   "execution_count": null,
   "id": "e2de5014-33bc-45c5-b012-92478a1ea4c3",
   "metadata": {},
   "outputs": [],
   "source": []
  },
  {
   "cell_type": "code",
   "execution_count": 50,
   "id": "246089d0-c25f-4172-a477-92cc01869abd",
   "metadata": {},
   "outputs": [],
   "source": []
  },
  {
   "cell_type": "code",
   "execution_count": 50,
   "id": "1e193aa8-9f11-4bed-b005-704f25704f42",
   "metadata": {},
   "outputs": [],
   "source": []
  },
  {
   "cell_type": "code",
   "execution_count": 50,
   "id": "dd323e3f-b643-490b-861c-05de15f000af",
   "metadata": {},
   "outputs": [],
   "source": []
  },
  {
   "cell_type": "code",
   "execution_count": 50,
   "id": "6e4974d6-dfa9-464d-80d0-392c9841d0d1",
   "metadata": {},
   "outputs": [],
   "source": []
  },
  {
   "cell_type": "code",
   "execution_count": 50,
   "id": "bdb7e693-4e1c-4643-9851-4ec9488e186f",
   "metadata": {},
   "outputs": [],
   "source": []
  },
  {
   "cell_type": "code",
   "execution_count": 50,
   "id": "7abeb003-e533-4de8-9834-27dfd9ba1d8a",
   "metadata": {},
   "outputs": [],
   "source": []
  },
  {
   "cell_type": "code",
   "execution_count": 50,
   "id": "5d3ce6c9-7b47-4458-ad6e-dedadc17b787",
   "metadata": {},
   "outputs": [],
   "source": []
  },
  {
   "cell_type": "code",
   "execution_count": 50,
   "id": "8515bf63-323e-41ed-9682-f5fdaf64f43c",
   "metadata": {},
   "outputs": [],
   "source": []
  },
  {
   "cell_type": "code",
   "execution_count": 50,
   "id": "a8b8fc33-d277-4de6-8615-509d2f21fe97",
   "metadata": {},
   "outputs": [],
   "source": []
  },
  {
   "cell_type": "code",
   "execution_count": 50,
   "id": "a65e0fa9-48b2-48e7-9427-db0f170988e1",
   "metadata": {},
   "outputs": [],
   "source": []
  },
  {
   "cell_type": "code",
   "execution_count": 50,
   "id": "5e9af42d-8878-48d4-a83c-25f8cf92e9b2",
   "metadata": {},
   "outputs": [],
   "source": []
  },
  {
   "cell_type": "code",
   "execution_count": 50,
   "id": "113dd6cb-06e5-4958-bb10-a6fa221d5d36",
   "metadata": {},
   "outputs": [],
   "source": []
  },
  {
   "cell_type": "code",
   "execution_count": 50,
   "id": "f151763c-5887-4327-8a83-3c349c5339ee",
   "metadata": {},
   "outputs": [],
   "source": []
  },
  {
   "cell_type": "code",
   "execution_count": 50,
   "id": "f00dbd96-2776-4cb9-918f-40d591b1b757",
   "metadata": {},
   "outputs": [],
   "source": []
  },
  {
   "cell_type": "code",
   "execution_count": 50,
   "id": "8e4f9675-b8d5-432c-abea-ba1c07a33eec",
   "metadata": {},
   "outputs": [],
   "source": []
  }
 ],
 "metadata": {
  "kernelspec": {
   "display_name": "Python 3 (ipykernel)",
   "language": "python",
   "name": "python3"
  },
  "language_info": {
   "codemirror_mode": {
    "name": "ipython",
    "version": 3
   },
   "file_extension": ".py",
   "mimetype": "text/x-python",
   "name": "python",
   "nbconvert_exporter": "python",
   "pygments_lexer": "ipython3",
   "version": "3.9.5"
  }
 },
 "nbformat": 4,
 "nbformat_minor": 5
}
