{
 "cells": [
  {
   "cell_type": "code",
   "execution_count": 2,
   "id": "be28bd03-a515-4ecc-801c-8734cf0520f5",
   "metadata": {},
   "outputs": [],
   "source": [
    "import sympy as sp\n",
    "x,y=sp.symbols('x y')"
   ]
  },
  {
   "cell_type": "code",
   "execution_count": 3,
   "id": "63a02a42-3a41-4dcc-b428-6f9d0a0b1999",
   "metadata": {},
   "outputs": [
    {
     "data": {
      "text/latex": [
       "$\\displaystyle x y^{2} - 49 x = 0$"
      ],
      "text/plain": [
       "Eq(x*y**2 - 49*x, 0)"
      ]
     },
     "execution_count": 3,
     "metadata": {},
     "output_type": "execute_result"
    }
   ],
   "source": [
    "eq1=sp.Eq(x*y**2 - 49*x,0)\n",
    "eq1"
   ]
  },
  {
   "cell_type": "code",
   "execution_count": 4,
   "id": "0bf96536-4228-466d-be60-90220948508d",
   "metadata": {},
   "outputs": [
    {
     "data": {
      "text/latex": [
       "$\\displaystyle 2 x + 2 y = 58$"
      ],
      "text/plain": [
       "Eq(2*x + 2*y, 58)"
      ]
     },
     "execution_count": 4,
     "metadata": {},
     "output_type": "execute_result"
    }
   ],
   "source": [
    "eq2=sp.Eq(x*2 + y*2,58)\n",
    "eq2"
   ]
  },
  {
   "cell_type": "code",
   "execution_count": 5,
   "id": "eb8e920e-88f8-491e-b74d-e21bc8fca1e9",
   "metadata": {},
   "outputs": [
    {
     "data": {
      "text/plain": [
       "[(0, 29), (22, 7), (36, -7)]"
      ]
     },
     "execution_count": 5,
     "metadata": {},
     "output_type": "execute_result"
    }
   ],
   "source": [
    "from sympy.solvers import solve\n",
    "sol=solve([eq1,eq2],[x,y])\n",
    "sol"
   ]
  },
  {
   "cell_type": "code",
   "execution_count": 1,
   "id": "2e5817a7-defd-40c7-9c43-dac175683197",
   "metadata": {},
   "outputs": [],
   "source": []
  },
  {
   "cell_type": "code",
   "execution_count": 1,
   "id": "b237eba3-063b-4225-9f04-c75f8a2ab3ee",
   "metadata": {},
   "outputs": [],
   "source": []
  },
  {
   "cell_type": "code",
   "execution_count": 1,
   "id": "11143071-60cb-49ba-a1cf-32192368fb99",
   "metadata": {},
   "outputs": [],
   "source": []
  },
  {
   "cell_type": "code",
   "execution_count": 1,
   "id": "c8def6c2-22f9-41ab-b923-1e530e77c599",
   "metadata": {},
   "outputs": [],
   "source": []
  }
 ],
 "metadata": {
  "kernelspec": {
   "display_name": "Python 3 (ipykernel)",
   "language": "python",
   "name": "python3"
  },
  "language_info": {
   "codemirror_mode": {
    "name": "ipython",
    "version": 3
   },
   "file_extension": ".py",
   "mimetype": "text/x-python",
   "name": "python",
   "nbconvert_exporter": "python",
   "pygments_lexer": "ipython3",
   "version": "3.9.5"
  }
 },
 "nbformat": 4,
 "nbformat_minor": 5
}
